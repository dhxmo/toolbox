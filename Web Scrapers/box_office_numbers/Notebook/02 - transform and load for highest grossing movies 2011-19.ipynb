{
 "cells": [
  {
   "cell_type": "code",
   "execution_count": 1,
   "id": "827c54b6",
   "metadata": {},
   "outputs": [],
   "source": [
    "import os\n",
    "import pandas as pd"
   ]
  },
  {
   "cell_type": "code",
   "execution_count": 2,
   "id": "cf0c503a",
   "metadata": {},
   "outputs": [],
   "source": [
    "cwd = os.getcwd()\n",
    "NTBK_DIR = os.path.dirname(cwd)\n",
    "\n",
    "DATA_DIR = os.path.join(NTBK_DIR, 'box_office_data')\n",
    "CACHE_DIR = os.path.join(NTBK_DIR, 'cache')\n",
    "\n",
    "working_file = os.path.join(CACHE_DIR, \"box_office_dataset.csv\")\n",
    "output_file = os.path.join(CACHE_DIR, \"box_office_dataset_cleaned.csv\")"
   ]
  },
  {
   "cell_type": "code",
   "execution_count": 3,
   "id": "ee3130a5",
   "metadata": {},
   "outputs": [],
   "source": [
    "df = pd.read_csv(working_file)"
   ]
  },
  {
   "cell_type": "code",
   "execution_count": 4,
   "id": "b2e87bf2",
   "metadata": {},
   "outputs": [],
   "source": [
    "df['Rank'] = -1\n",
    "\n",
    "df['Domestic %'] = df['%']\n",
    "df['Foreign %'] = df['%.1']\n",
    "df.drop(columns=['%', '%.1'], inplace=True)"
   ]
  },
  {
   "cell_type": "code",
   "execution_count": 5,
   "id": "159d3971",
   "metadata": {},
   "outputs": [],
   "source": [
    " df['Worldwide'] = df['Worldwide'].replace(\"$\", \"\").replace(\",\", \"\")"
   ]
  },
  {
   "cell_type": "code",
   "execution_count": 6,
   "id": "1bfd6117",
   "metadata": {
    "scrolled": false
   },
   "outputs": [],
   "source": [
    "to_clean_cols = ['Worldwide', 'Domestic', 'Foreign']\n",
    "\n",
    "def currency_str_to_int(currency_val):\n",
    "    currency_val = currency_val.replace(\"$\", \"\").replace(\",\", \"\")\n",
    "    try:\n",
    "        currency_val = int(currency_val)\n",
    "    except:\n",
    "        currency_val = 0\n",
    "    return currency_val\n",
    "\n",
    "def clean_col(row):\n",
    "    \"\"\"\n",
    "    row = Pandas series\n",
    "    dataframe = collection of pandas series\n",
    "    \"\"\"\n",
    "    for col in to_clean_cols:\n",
    "        curr_val = row[col]\n",
    "        row[col] = currency_str_to_int(curr_val)\n",
    "    return row\n",
    "\n",
    "df_cleaned = df.apply(clean_col, axis=1)"
   ]
  },
  {
   "cell_type": "code",
   "execution_count": 7,
   "id": "198ba280",
   "metadata": {
    "scrolled": false
   },
   "outputs": [
    {
     "data": {
      "text/html": [
       "<div>\n",
       "<style scoped>\n",
       "    .dataframe tbody tr th:only-of-type {\n",
       "        vertical-align: middle;\n",
       "    }\n",
       "\n",
       "    .dataframe tbody tr th {\n",
       "        vertical-align: top;\n",
       "    }\n",
       "\n",
       "    .dataframe thead th {\n",
       "        text-align: right;\n",
       "    }\n",
       "</style>\n",
       "<table border=\"1\" class=\"dataframe\">\n",
       "  <thead>\n",
       "    <tr style=\"text-align: right;\">\n",
       "      <th></th>\n",
       "      <th>Rank</th>\n",
       "      <th>Release Group</th>\n",
       "      <th>Worldwide</th>\n",
       "      <th>Domestic</th>\n",
       "      <th>Foreign</th>\n",
       "      <th>filename</th>\n",
       "      <th>year</th>\n",
       "      <th>Domestic %</th>\n",
       "      <th>Foreign %</th>\n",
       "    </tr>\n",
       "  </thead>\n",
       "  <tbody>\n",
       "    <tr>\n",
       "      <th>0</th>\n",
       "      <td>-1</td>\n",
       "      <td>Avengers: Endgame</td>\n",
       "      <td>2797501328</td>\n",
       "      <td>858373000</td>\n",
       "      <td>1939128328</td>\n",
       "      <td>2019.csv</td>\n",
       "      <td>2019</td>\n",
       "      <td>30.7%</td>\n",
       "      <td>69.3%</td>\n",
       "    </tr>\n",
       "    <tr>\n",
       "      <th>1</th>\n",
       "      <td>-1</td>\n",
       "      <td>Star Wars: Episode VII - The Force Awakens</td>\n",
       "      <td>2068223624</td>\n",
       "      <td>936662225</td>\n",
       "      <td>1131561399</td>\n",
       "      <td>2015.csv</td>\n",
       "      <td>2015</td>\n",
       "      <td>45.3%</td>\n",
       "      <td>54.7%</td>\n",
       "    </tr>\n",
       "    <tr>\n",
       "      <th>2</th>\n",
       "      <td>-1</td>\n",
       "      <td>Avengers: Infinity War</td>\n",
       "      <td>2048359754</td>\n",
       "      <td>678815482</td>\n",
       "      <td>1369544272</td>\n",
       "      <td>2018.csv</td>\n",
       "      <td>2018</td>\n",
       "      <td>33.1%</td>\n",
       "      <td>66.9%</td>\n",
       "    </tr>\n",
       "    <tr>\n",
       "      <th>3</th>\n",
       "      <td>-1</td>\n",
       "      <td>Jurassic World</td>\n",
       "      <td>1670400637</td>\n",
       "      <td>652270625</td>\n",
       "      <td>1018130012</td>\n",
       "      <td>2015.csv</td>\n",
       "      <td>2015</td>\n",
       "      <td>39%</td>\n",
       "      <td>61%</td>\n",
       "    </tr>\n",
       "    <tr>\n",
       "      <th>4</th>\n",
       "      <td>-1</td>\n",
       "      <td>The Lion King</td>\n",
       "      <td>1656943394</td>\n",
       "      <td>543638043</td>\n",
       "      <td>1113305351</td>\n",
       "      <td>2019.csv</td>\n",
       "      <td>2019</td>\n",
       "      <td>32.8%</td>\n",
       "      <td>67.2%</td>\n",
       "    </tr>\n",
       "  </tbody>\n",
       "</table>\n",
       "</div>"
      ],
      "text/plain": [
       "   Rank                               Release Group   Worldwide   Domestic  \\\n",
       "0    -1                           Avengers: Endgame  2797501328  858373000   \n",
       "1    -1  Star Wars: Episode VII - The Force Awakens  2068223624  936662225   \n",
       "2    -1                      Avengers: Infinity War  2048359754  678815482   \n",
       "3    -1                              Jurassic World  1670400637  652270625   \n",
       "4    -1                               The Lion King  1656943394  543638043   \n",
       "\n",
       "      Foreign  filename  year Domestic % Foreign %  \n",
       "0  1939128328  2019.csv  2019      30.7%     69.3%  \n",
       "1  1131561399  2015.csv  2015      45.3%     54.7%  \n",
       "2  1369544272  2018.csv  2018      33.1%     66.9%  \n",
       "3  1018130012  2015.csv  2015        39%       61%  \n",
       "4  1113305351  2019.csv  2019      32.8%     67.2%  "
      ]
     },
     "execution_count": 7,
     "metadata": {},
     "output_type": "execute_result"
    }
   ],
   "source": [
    "df_cleaned.sort_values(by=['Worldwide'], inplace=True, ascending=False)\n",
    "# inplace changes value to the original dataframe, false by default\n",
    "# reset index and drop original values\n",
    "df_cleaned.reset_index(inplace=True, drop=True)\n",
    "df_cleaned.head()"
   ]
  },
  {
   "cell_type": "code",
   "execution_count": 8,
   "id": "0a654008",
   "metadata": {
    "scrolled": true
   },
   "outputs": [],
   "source": [
    "# update rank\n",
    "df_cleaned['Rank'] = df_cleaned.index + 1"
   ]
  },
  {
   "cell_type": "code",
   "execution_count": 9,
   "id": "b0c0c1a3",
   "metadata": {
    "scrolled": true
   },
   "outputs": [],
   "source": [
    "# change percent type\n",
    "df_cleaned['Domestic %'] = df_cleaned['Domestic'] / df_cleaned['Worldwide'] * 100\n",
    "df_cleaned['Foreign %'] = df_cleaned['Foreign'] / df_cleaned['Worldwide'] * 100"
   ]
  },
  {
   "cell_type": "code",
   "execution_count": 10,
   "id": "0e14eb7a",
   "metadata": {},
   "outputs": [],
   "source": [
    "df_cleaned.to_csv(output_file, index=False)"
   ]
  }
 ],
 "metadata": {
  "kernelspec": {
   "display_name": "Python 3 (ipykernel)",
   "language": "python",
   "name": "python3"
  },
  "language_info": {
   "codemirror_mode": {
    "name": "ipython",
    "version": 3
   },
   "file_extension": ".py",
   "mimetype": "text/x-python",
   "name": "python",
   "nbconvert_exporter": "python",
   "pygments_lexer": "ipython3",
   "version": "3.8.10"
  }
 },
 "nbformat": 4,
 "nbformat_minor": 5
}
