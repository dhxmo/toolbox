{
 "cells": [
  {
   "cell_type": "code",
   "execution_count": 1,
   "id": "6be5c33a",
   "metadata": {},
   "outputs": [],
   "source": [
    "#!pip install requests-html requests pandas"
   ]
  },
  {
   "cell_type": "code",
   "execution_count": 2,
   "id": "f8eb78c4",
   "metadata": {},
   "outputs": [],
   "source": [
    "import requests\n",
    "from requests_html import HTML\n",
    "import pandas as pd\n",
    "import time\n",
    "from slugify import slugify"
   ]
  },
  {
   "cell_type": "code",
   "execution_count": 3,
   "id": "c6409f29",
   "metadata": {},
   "outputs": [],
   "source": [
    "def clean_data(text, keyname=None):\n",
    "    if keyname == 'votes':\n",
    "            return text.replace('\\nvotes', '')\n",
    "    return text"
   ]
  },
  {
   "cell_type": "code",
   "execution_count": 4,
   "id": "ec1c0740",
   "metadata": {},
   "outputs": [],
   "source": [
    "def parse_tag_page(html):\n",
    "    datas = []\n",
    "    keys = ['question', 'votes']\n",
    "    classes = ['.question-hyperlink', '.vote']\n",
    "\n",
    "    question_summaries = html.find(\".question-summary\")\n",
    "    \n",
    "    link_base_url = 'https://stackoverflow.com/'\n",
    "    \n",
    "    for q in question_summaries:\n",
    "        question_data = {}\n",
    "        for i,_class in enumerate(classes):\n",
    "            sub_el = q.find(_class, first=True)\n",
    "            keyname = keys[i]\n",
    "            question_data[keyname] = clean_data(sub_el.text, keyname=keyname)\n",
    "\n",
    "            for link in sub_el.links:\n",
    "                url = str(sub_el.links).replace(\"{'/\", \"\").replace(\"'}\", \"\")\n",
    "                question_data['answer'] = link_base_url + url\n",
    "        datas.append(question_data)\n",
    "    return datas\n"
   ]
  },
  {
   "cell_type": "code",
   "execution_count": 5,
   "id": "09a44c3f",
   "metadata": {},
   "outputs": [],
   "source": [
    "def extract_data_from_url(url):\n",
    "    r = requests.get(url)\n",
    "    if r.status_code not in range(200, 299):\n",
    "        return []\n",
    "    html_string = r.text\n",
    "    html = HTML(html=html_string)\n",
    "    datas = parse_tag_page(html)\n",
    "    return datas"
   ]
  },
  {
   "cell_type": "code",
   "execution_count": 6,
   "id": "7df9148e",
   "metadata": {},
   "outputs": [],
   "source": [
    "def scrape_tag(tag = \"html\", query_filter=\"Votes\", max_pages=3, pagesize=10):   \n",
    "    base_url = \"https://stackoverflow.com/questions/tagged/\"\n",
    "    datas = []\n",
    "    for p in range(max_pages):\n",
    "        page_num = p + 1\n",
    "        url = f\"{base_url}{tag}?tab={query_filter}&page={page_num}&page_size={pagesize}\"\n",
    "        datas += extract_data_from_url(url)\n",
    "        time.sleep(1)\n",
    "    return datas"
   ]
  },
  {
   "cell_type": "code",
   "execution_count": 7,
   "id": "743238a1",
   "metadata": {},
   "outputs": [
    {
     "data": {
      "text/html": [
       "<div>\n",
       "<style scoped>\n",
       "    .dataframe tbody tr th:only-of-type {\n",
       "        vertical-align: middle;\n",
       "    }\n",
       "\n",
       "    .dataframe tbody tr th {\n",
       "        vertical-align: top;\n",
       "    }\n",
       "\n",
       "    .dataframe thead th {\n",
       "        text-align: right;\n",
       "    }\n",
       "</style>\n",
       "<table border=\"1\" class=\"dataframe\">\n",
       "  <thead>\n",
       "    <tr style=\"text-align: right;\">\n",
       "      <th></th>\n",
       "      <th>question</th>\n",
       "      <th>answer</th>\n",
       "      <th>votes</th>\n",
       "    </tr>\n",
       "  </thead>\n",
       "  <tbody>\n",
       "    <tr>\n",
       "      <th>0</th>\n",
       "      <td>What does the \"yield\" keyword do?</td>\n",
       "      <td>https://stackoverflow.com/questions/231767/wha...</td>\n",
       "      <td>11732</td>\n",
       "    </tr>\n",
       "    <tr>\n",
       "      <th>1</th>\n",
       "      <td>What does if __name__ == \"__main__\": do?</td>\n",
       "      <td>https://stackoverflow.com/questions/419163/wha...</td>\n",
       "      <td>7226</td>\n",
       "    </tr>\n",
       "    <tr>\n",
       "      <th>2</th>\n",
       "      <td>Does Python have a ternary conditional operator?</td>\n",
       "      <td>https://stackoverflow.com/questions/394809/doe...</td>\n",
       "      <td>7107</td>\n",
       "    </tr>\n",
       "    <tr>\n",
       "      <th>3</th>\n",
       "      <td>What are metaclasses in Python?</td>\n",
       "      <td>https://stackoverflow.com/questions/100003/wha...</td>\n",
       "      <td>6527</td>\n",
       "    </tr>\n",
       "    <tr>\n",
       "      <th>4</th>\n",
       "      <td>How do I check whether a file exists without e...</td>\n",
       "      <td>https://stackoverflow.com/questions/82831/how-...</td>\n",
       "      <td>6480</td>\n",
       "    </tr>\n",
       "  </tbody>\n",
       "</table>\n",
       "</div>"
      ],
      "text/plain": [
       "                                            question  \\\n",
       "0                  What does the \"yield\" keyword do?   \n",
       "1           What does if __name__ == \"__main__\": do?   \n",
       "2   Does Python have a ternary conditional operator?   \n",
       "3                    What are metaclasses in Python?   \n",
       "4  How do I check whether a file exists without e...   \n",
       "\n",
       "                                              answer  votes  \n",
       "0  https://stackoverflow.com/questions/231767/wha...  11732  \n",
       "1  https://stackoverflow.com/questions/419163/wha...   7226  \n",
       "2  https://stackoverflow.com/questions/394809/doe...   7107  \n",
       "3  https://stackoverflow.com/questions/100003/wha...   6527  \n",
       "4  https://stackoverflow.com/questions/82831/how-...   6480  "
      ]
     },
     "execution_count": 7,
     "metadata": {},
     "output_type": "execute_result"
    }
   ],
   "source": [
    "datas = scrape_tag(tag='python')\n",
    "df = pd.DataFrame(datas)\n",
    "df.head()"
   ]
  },
  {
   "cell_type": "code",
   "execution_count": 8,
   "id": "6d2ac602",
   "metadata": {},
   "outputs": [],
   "source": [
    "df.to_csv(\"stack.csv\", index=False)"
   ]
  }
 ],
 "metadata": {
  "kernelspec": {
   "display_name": "Python 3 (ipykernel)",
   "language": "python",
   "name": "python3"
  },
  "language_info": {
   "codemirror_mode": {
    "name": "ipython",
    "version": 3
   },
   "file_extension": ".py",
   "mimetype": "text/x-python",
   "name": "python",
   "nbconvert_exporter": "python",
   "pygments_lexer": "ipython3",
   "version": "3.8.10"
  }
 },
 "nbformat": 4,
 "nbformat_minor": 5
}
